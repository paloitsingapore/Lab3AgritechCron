{
 "cells": [
  {
   "cell_type": "markdown",
   "metadata": {},
   "source": [
    "# Scheduling Script\n",
    "\n",
    "This script uses the python package \"mip\" to schedule the order of irrigation.\n",
    "\n",
    "The constraints for this schedule are given through two types of settings: common and custom. Common settings are the \"default\" settings given to the fields of a farm at the outset and are the reversion settings if a reset is required. Custom settings are field-level customizations to one or more of the common settings. Below are the fields in the \"CurrentConstraints\" table in Azure.\n",
    "\n",
    "- field_id\n",
    "- setting_id\n",
    "- max_sprinkle_dur - the maximum duration of irrigation for the field\n",
    "- offset_bef_sprinkle - \n",
    "- max_wind_speed - the maximum allows wind speed for irrigation \n",
    "- humid - the maximum humidity allowed for irrigation\n",
    "- skip_sprinkle_from - the starting time of an irrigation blackout \n",
    "- skip_sprinkle_to - the ending time of an irrigation blackout\n",
    "- last_updated"
   ]
  },
  {
   "cell_type": "markdown",
   "metadata": {},
   "source": [
    "# Import packages and data"
   ]
  },
  {
   "cell_type": "code",
   "execution_count": 1,
   "metadata": {},
   "outputs": [],
   "source": [
    "from mip import *\n",
    "import numpy as np\n",
    "import pandas as pd\n",
    "from azure.cosmosdb.table.tableservice import TableService\n",
    "import creds\n",
    "import math\n",
    "import datetime\n",
    "\n",
    "table_service = TableService(account_name=creds.ACCNAME, account_key=creds.KEY)"
   ]
  },
  {
   "cell_type": "code",
   "execution_count": 2,
   "metadata": {},
   "outputs": [],
   "source": [
    "def get_df(table):\n",
    "#     now = datetime.datetime.now() - datetime.timedelta(days = 2, hours = 1)\n",
    "#     datefilter = \"RowKey ge '\" + str(now.timestamp()) + \"'\"\n",
    "#     weather_gen = table_service.query_entities(table, filter=datefilter)\n",
    "    gen = table_service.query_entities(table)\n",
    "    to_df = []\n",
    "    for row in gen:\n",
    "        to_df.append(row)\n",
    "    df = pd.DataFrame(to_df)\n",
    "    return df"
   ]
  },
  {
   "cell_type": "code",
   "execution_count": 3,
   "metadata": {},
   "outputs": [],
   "source": [
    "constraints = get_df('CurrentConstraints').sort_values('RowKey')\n",
    "constraints = constraints.reset_index(drop=True).drop(['PartitionKey','RowKey','Timestamp','etag','last_updated'], axis=1)\n",
    "\n",
    "predictions = get_df('Predictions').sort_values('RowKey')\n",
    "predictions = predictions.reset_index(drop=True).drop(['PartitionKey','RowKey','Timestamp','etag'], axis=1)\n",
    "predictions = predictions.iloc[-2:]"
   ]
  },
  {
   "cell_type": "code",
   "execution_count": 17,
   "metadata": {},
   "outputs": [
    {
     "data": {
      "text/html": [
       "<div>\n",
       "<style scoped>\n",
       "    .dataframe tbody tr th:only-of-type {\n",
       "        vertical-align: middle;\n",
       "    }\n",
       "\n",
       "    .dataframe tbody tr th {\n",
       "        vertical-align: top;\n",
       "    }\n",
       "\n",
       "    .dataframe thead th {\n",
       "        text-align: right;\n",
       "    }\n",
       "</style>\n",
       "<table border=\"1\" class=\"dataframe\">\n",
       "  <thead>\n",
       "    <tr style=\"text-align: right;\">\n",
       "      <th></th>\n",
       "      <th>D0_avgtemp_c</th>\n",
       "      <th>D0_mintemp_c</th>\n",
       "      <th>D0_maxtemp_c</th>\n",
       "    </tr>\n",
       "  </thead>\n",
       "  <tbody>\n",
       "    <tr>\n",
       "      <th>0</th>\n",
       "      <td>28.0</td>\n",
       "      <td>26.0</td>\n",
       "      <td>31.0</td>\n",
       "    </tr>\n",
       "    <tr>\n",
       "      <th>1</th>\n",
       "      <td>28.0</td>\n",
       "      <td>26.0</td>\n",
       "      <td>31.0</td>\n",
       "    </tr>\n",
       "  </tbody>\n",
       "</table>\n",
       "</div>"
      ],
      "text/plain": [
       "  D0_avgtemp_c D0_mintemp_c D0_maxtemp_c\n",
       "0         28.0         26.0         31.0\n",
       "1         28.0         26.0         31.0"
      ]
     },
     "execution_count": 17,
     "metadata": {},
     "output_type": "execute_result"
    }
   ],
   "source": [
    "predictions[['D0_avgtemp_c','D0_mintemp_c','D0_maxtemp_c']]"
   ]
  },
  {
   "cell_type": "code",
   "execution_count": 4,
   "metadata": {},
   "outputs": [
    {
     "data": {
      "text/html": [
       "<div>\n",
       "<style scoped>\n",
       "    .dataframe tbody tr th:only-of-type {\n",
       "        vertical-align: middle;\n",
       "    }\n",
       "\n",
       "    .dataframe tbody tr th {\n",
       "        vertical-align: top;\n",
       "    }\n",
       "\n",
       "    .dataframe thead th {\n",
       "        text-align: right;\n",
       "    }\n",
       "</style>\n",
       "<table border=\"1\" class=\"dataframe\">\n",
       "  <thead>\n",
       "    <tr style=\"text-align: right;\">\n",
       "      <th></th>\n",
       "      <th>field_id</th>\n",
       "      <th>humid</th>\n",
       "      <th>max_sprinkle_dur</th>\n",
       "      <th>max_wind_speed</th>\n",
       "      <th>offset_bef_sprinkle</th>\n",
       "      <th>setting_id</th>\n",
       "      <th>skip_sprinkle_from</th>\n",
       "      <th>skip_sprinkle_to</th>\n",
       "    </tr>\n",
       "  </thead>\n",
       "  <tbody>\n",
       "    <tr>\n",
       "      <th>0</th>\n",
       "      <td>101</td>\n",
       "      <td>60.0</td>\n",
       "      <td>50</td>\n",
       "      <td>23</td>\n",
       "      <td>9</td>\n",
       "      <td>1</td>\n",
       "      <td>2</td>\n",
       "      <td>20</td>\n",
       "    </tr>\n",
       "    <tr>\n",
       "      <th>1</th>\n",
       "      <td>102</td>\n",
       "      <td>60.0</td>\n",
       "      <td>50</td>\n",
       "      <td>23</td>\n",
       "      <td>9</td>\n",
       "      <td>1</td>\n",
       "      <td>2</td>\n",
       "      <td>20</td>\n",
       "    </tr>\n",
       "  </tbody>\n",
       "</table>\n",
       "</div>"
      ],
      "text/plain": [
       "  field_id  humid max_sprinkle_dur max_wind_speed offset_bef_sprinkle  \\\n",
       "0      101   60.0               50             23                   9   \n",
       "1      102   60.0               50             23                   9   \n",
       "\n",
       "  setting_id skip_sprinkle_from skip_sprinkle_to  \n",
       "0          1                  2               20  \n",
       "1          1                  2               20  "
      ]
     },
     "execution_count": 4,
     "metadata": {},
     "output_type": "execute_result"
    }
   ],
   "source": [
    "constraints"
   ]
  },
  {
   "cell_type": "markdown",
   "metadata": {},
   "source": [
    "# Build data"
   ]
  },
  {
   "cell_type": "code",
   "execution_count": null,
   "metadata": {},
   "outputs": [],
   "source": [
    "fields = constraints.shape[0]\n",
    "field_idx = [i for i in range(fields)]\n",
    "pred_name = 'pred6hrain'\n",
    "start_time = 9\n",
    "end_time = 18\n",
    "slot_dur = 5\n",
    "min_sm = 50\n",
    "time_horizon = (end_time-start_time)*60\n",
    "\n",
    "slots = int(time_horizon / slot_dur)\n",
    "slots_hour = int(slots / start_time)\n",
    "slot_idx = range(slots) # slot 0 begins at the start time\n",
    "\n",
    "# For inputs\n",
    "# Need another variable for starting soil moisture\n",
    "begin_sm = [float(predictions.iloc[i]['humidity']) for i in field_idx] # needs to be changed to the actual soil moisture reading\n",
    "# predicted_moisture[field_id] # Predictions based on no water being irrigated to it but assuming rain\n",
    "pred_sm = [int(float(predictions.iloc[i][pred_name])) for i in field_idx]\n",
    "# Do we need to triangulate this forecast?\n",
    "wind = [float(predictions.iloc[i]['D0_maxwind_kph']) for i in field_idx]\n",
    "# Do we need to triangulate this forecast?\n",
    "humidity = [float(predictions.iloc[i]['D0_avghumidity']) for i in field_idx]\n",
    "\n",
    "# For constraints\n",
    "max_sprinkle_dur = [int(constraints.iloc[i]['max_sprinkle_dur']) for i in field_idx]\n",
    "offset_bef_sprinkle = [int(constraints.iloc[i]['offset_bef_sprinkle']) for i in field_idx]\n",
    "max_wind_speed = [int(constraints.iloc[i]['max_wind_speed']) for i in field_idx]\n",
    "max_humid = [int(constraints.iloc[i]['humid']) for i in field_idx]\n",
    "skip_sprinkle_from = [int(constraints.iloc[i]['skip_sprinkle_from']) for i in field_idx]\n",
    "skip_sprinkle_to = [int(constraints.iloc[i]['skip_sprinkle_to']) for i in field_idx]\n",
    "\n",
    "humid_flag = [1 if max_humid[i] > humidity[i] else 0 for i in field_idx] # do not irrigate if flag = 0\n",
    "# temp_flag = [1 if (max_temp[i]-temp[i]) > 0 else 0 for i in field_idx] # do not irrigate if flag = 0\n",
    "wind_flag = [1 if max_wind_speed[i] > wind[i] else 0 for i in field_idx] # do not irrigate if flag = 0\n",
    "\n",
    "# Need another variable for soil moisture gained per slot; same process as \"loss\" but for days with irrigation\n",
    "sm_gain = (9 / (24*12)) * 100\n",
    "# Need another variable for soil moisture lost per slot # don't need; can just take from the beginning and ending moisture to derive # Take sum of all deltas between current day and tomorrow's soil moisture and divide by 24 hours * time slots in hour\n",
    "sm_loss = (1.8 / (24*12)) * 100 # Not sure we can use this, since we also need to know both when rain will begin and the gestation period for sensors to detect water\n",
    "\n",
    "slots_req = [min(max_sprinkle_dur[i]//slot_dur,math.ceil((min_sm - pred_sm[i])/sm_gain)) for i in field_idx] # Takes the max sprinkle duration or the total slots required to bring the soil moisture to an acceptable level"
   ]
  },
  {
   "cell_type": "markdown",
   "metadata": {},
   "source": [
    "## Testing data"
   ]
  },
  {
   "cell_type": "code",
   "execution_count": 4,
   "metadata": {},
   "outputs": [],
   "source": [
    "from mip import *\n",
    "import random\n",
    "import math\n",
    "import datetime\n",
    "\n",
    "fields = 10\n",
    "field_idx = [i for i in range(fields)]\n",
    "# pred_name = 'pred6hrain'\n",
    "start_time = 9\n",
    "end_time = 18\n",
    "slot_dur = 5\n",
    "min_sm = 50\n",
    "time_horizon = (end_time-start_time)*60\n",
    "\n",
    "slots = int(time_horizon / slot_dur)\n",
    "slots_hour = int(slots / start_time)\n",
    "slot_idx = range(slots) # slot 0 begins at the start time\n",
    "\n",
    "# For inputs\n",
    "# Need another variable for starting soil moisture\n",
    "begin_sm = random.sample(range(50,61), fields)\n",
    "# predicted_moisture[field_id] # Predictions based on no water being irrigated to it but assuming rain\n",
    "pred_sm = random.sample(range(30,50), fields)\n",
    "# Do we need to triangulate this forecast?\n",
    "wind = [0 for _ in field_idx]\n",
    "# Do we need to triangulate this forecast?\n",
    "humidity = [50 for _ in field_idx]\n",
    "\n",
    "# For constraints\n",
    "max_sprinkle_dur = random.sample([10,10,10,10,10,10,10,10,10,10,15,15,15,15,15,15,15,15,15,15,20,20,20,20,20,20,20,20,20,20], fields)\n",
    "offset_bef_sprinkle = [5 for _ in field_idx] # The time it takes for water to arrive at the parcel once pump activated\n",
    "max_wind_speed = [50 for _ in field_idx]\n",
    "max_humid = [75 for _ in field_idx]\n",
    "skip_sprinkle_from = [11 for _ in field_idx]\n",
    "skip_sprinkle_to = [14 for _ in field_idx]\n",
    "\n",
    "temperature_range = [32, 35]\n",
    "temp_soft_flag = 1 if (float(predictions['D0_mintemp_c'][predictions.shape[0]-1]) >= temperature_range[0]) & (float(predictions['D0_maxtemp_c'][predictions.shape[0]-1]) <= temperature_range[1]) else 0\n",
    "\n",
    "cloudy_flag = 1 # If cloudy that day\n",
    "humid_flag = [1 if max_humid[i] > humidity[i] else 0 for i in field_idx] # do not irrigate if flag = 0\n",
    "# temp_flag = [1 if (max_temp[i]-temp[i]) > 0 else 0 for i in field_idx] # do not irrigate if flag = 0\n",
    "wind_flag = [1 if max_wind_speed[i] > wind[i] else 0 for i in field_idx] # do not irrigate if flag = 0\n",
    "temp_flag = 0 if (float(predictions['D0_mintemp_c'][predictions.shape[0]-1]) >= temperature_range[1]) | (float(predictions['D0_maxtemp_c'][predictions.shape[0]-1]) <= temperature_range[0]) else 1\n",
    "\n",
    "\n",
    "# Need another variable for soil moisture gained per slot; same process as \"loss\" but for days with irrigation\n",
    "sm_gain = (9 / (24*12)) * 100 # 9 is random\n",
    "# Need another variable for soil moisture lost per slot # don't need; can just take from the beginning and ending moisture to derive # Take sum of all deltas between current day and tomorrow's soil moisture and divide by 24 hours * time slots in hour\n",
    "sm_loss = (1.8 / (24*12)) * 100 # Not sure we can use this, since we also need to know both when rain will begin and the gestation period for sensors to detect water\n",
    "\n",
    "slots_req = [min(max_sprinkle_dur[i]//slot_dur,math.ceil((min_sm - pred_sm[i])/sm_gain)) for i in field_idx]"
   ]
  },
  {
   "cell_type": "markdown",
   "metadata": {},
   "source": [
    "# Create model"
   ]
  },
  {
   "cell_type": "code",
   "execution_count": 5,
   "metadata": {},
   "outputs": [],
   "source": [
    "m = Model()\n",
    "m = Model(sense=MINIMIZE)"
   ]
  },
  {
   "cell_type": "code",
   "execution_count": 6,
   "metadata": {},
   "outputs": [],
   "source": [
    "# Decision variables in readable form\n",
    "x = [[m.add_var(name='field {} irrigating slot {}:{}'.format(f+1, start_time+s//slots_hour,str((s%slots_hour)*slot_dur+100)[1:]), var_type=BINARY) for s in slot_idx] for f in field_idx] # 1 if field f is irrigated at slot s and 0 otherwise\n",
    "y = [[m.add_var(name='field {} start slot {}:{}'.format(f+1, start_time+s//slots_hour,str((s%slots_hour)*slot_dur+100)[1:]), var_type=BINARY) for s in slot_idx] for f in field_idx] # 1 if field f starts irrigating at slot s and 0 otherwise"
   ]
  },
  {
   "cell_type": "markdown",
   "metadata": {},
   "source": [
    "## Constraints\n",
    "\n",
    "A few constraints still need to be added:\n",
    "- Irrigate when the temperature is between 26-29; this may require having more granular temperature levels and then slowly ramping up between \"checkpoints\" (i.e. smooth the increase between two hourly temperature predictions by dividing with the slot_dur)\n",
    "- Include offset to the irrigation system. However, it currently isn't clear how this should/will impact the model. Should it be added to the overall duration? Should it shift the slots down by one? etc"
   ]
  },
  {
   "cell_type": "code",
   "execution_count": 7,
   "metadata": {},
   "outputs": [],
   "source": [
    "# Subject to\n",
    "# No irrigation between skip times unless cloudy\n",
    "for f in field_idx:\n",
    "    m += xsum(x[f][s] for s in range((skip_sprinkle_from[f]-start_time)*slots_hour,(skip_sprinkle_to[f]-start_time)*slots_hour)) <= temp_soft_flag*cloudy_flag*slots\n",
    "\n",
    "# Only water if prediction will fall below soil moisture threshold\n",
    "for f in field_idx:\n",
    "    m += xsum(x[f][s] for s in slot_idx) >= slots_req[f] * humid_flag[f]\n",
    "\n",
    "# Irrigation should be done contiguously and not spread across a time horizon\n",
    "for f in field_idx:\n",
    "    m += xsum(y[f][s] for s in slot_idx) <= 1\n",
    "    m += xsum(x[f][s] for s in slot_idx) <= xsum(y[f][s] for s in slot_idx)*slots\n",
    "    for s in slot_idx:\n",
    "        m += x[f][s] >= y[f][s]\n",
    "# The following constraint needs to be optimized for allowing a variable end \n",
    "for f in field_idx:\n",
    "    for s in slot_idx:\n",
    "        m += slots_req[f]*y[f][s] <= xsum(x[f][u] for u in range(s,min(slots,s+slots_req[f])))\n",
    "\n",
    "# At most one field being irrigated at a time\n",
    "for s in slot_idx:\n",
    "    m += xsum(x[f][s] for f in field_idx) <= 1\n",
    "\n",
    "# Irrigate only when temperature is in an acceptable range\n",
    "\n",
    "    \n",
    "# wat\n",
    "# offset_bef_sprinkle = [int(constraints.iloc[i]['offset_bef_sprinkle']) for i in field_id]\n",
    "\n",
    "\n",
    "# In progress\n",
    "# Do not irrigate between specified range\n",
    "# skip_sprinkle_from: what form does it take?\n",
    "# skip_sprinkle_to: what form does it take?\n",
    "\n",
    "\n",
    "\n"
   ]
  },
  {
   "cell_type": "markdown",
   "metadata": {},
   "source": [
    "## Objective function (minimize)"
   ]
  },
  {
   "cell_type": "code",
   "execution_count": 8,
   "metadata": {},
   "outputs": [],
   "source": [
    "# Objective function to minimize the sum of irrigation slots\n",
    "m.objective = xsum(x[f][s] for f in field_idx for s in slot_idx)"
   ]
  },
  {
   "cell_type": "markdown",
   "metadata": {},
   "source": [
    "\n",
    "## Some initial questions\n",
    "\n",
    "What is the objective function? Are we trying to minimize the use of water? Maximize the soil content? Minimize costs? (What are costs in this case?) Maximize benefits? (what are the benefits in this case?)"
   ]
  },
  {
   "cell_type": "markdown",
   "metadata": {},
   "source": [
    "# Find and send solution"
   ]
  },
  {
   "cell_type": "code",
   "execution_count": 9,
   "metadata": {
    "scrolled": true
   },
   "outputs": [
    {
     "name": "stdout",
     "output_type": "stream",
     "text": [
      "Max humidity, extreme temperature, or wind exceeds required irrigation conditions. Scheduling cancelled.\n"
     ]
    }
   ],
   "source": [
    "# Use this for debugging\n",
    "\n",
    "if min(min(humid_flag), temp_flag, min(wind_flag)) == 0:\n",
    "    print('Max humidity, extreme temperature, or wind exceeds required irrigation conditions. Scheduling cancelled.')\n",
    "else:\n",
    "    m.max_gap = 0.05\n",
    "    status = m.optimize(max_seconds=300)\n",
    "    if status == OptimizationStatus.OPTIMAL:\n",
    "        print('optimal solution cost {} found'.format(m.objective_value))\n",
    "    elif status == OptimizationStatus.FEASIBLE:\n",
    "        print('sol.cost {} found, best possible: {}'.format(m.objective_value, m.objective_bound))\n",
    "    elif status == OptimizationStatus.NO_SOLUTION_FOUND:\n",
    "        print('no feasible solution found, lower bound is: {}'.format(m.objective_bound))\n",
    "    if status == OptimizationStatus.OPTIMAL or status == OptimizationStatus.FEASIBLE:\n",
    "        print('solution:')\n",
    "        for v in m.vars:\n",
    "            if abs(v.x) > 1e-6: # only printing non-zeros\n",
    "                print('{} : {}'.format(v.name, v.x))\n"
   ]
  },
  {
   "cell_type": "markdown",
   "metadata": {},
   "source": [
    "# Send solution to cloud"
   ]
  },
  {
   "cell_type": "markdown",
   "metadata": {},
   "source": [
    "## For history of schedules"
   ]
  },
  {
   "cell_type": "code",
   "execution_count": 20,
   "metadata": {},
   "outputs": [],
   "source": [
    "def send_schedule_to_history():\n",
    "    log_dict = {}\n",
    "    for f in field_idx:\n",
    "        field_counter = 0\n",
    "        for s in slot_idx:\n",
    "            if x[f][s].x == 1:\n",
    "                field_counter += 1\n",
    "            if y[f][s].x == 1:\n",
    "                log_dict['parcel' + str(f+1) +'_start'] = datetime.time(start_time+s//slots_hour,(s%slots_hour)*slot_dur).strftime('%H:%M')\n",
    "        log_dict['parcel' + str(f+1) +'_end'] = (datetime.datetime.strptime(log_dict['parcel' + str(f+1) +'_start'], '%H:%M') + datetime.timedelta(minutes=field_counter*slot_dur)).time().strftime('%H:%M')\n",
    "    log_dict['PartitionKey'] = 'Schedules'\n",
    "    log_dict['RowKey'] = datetime.datetime.utcnow().date().strftime('%Y-%m-%d')\n",
    "    # table_service.delete_table('Schedules')\n",
    "    # table_service.create_table('Schedules')\n",
    "    table_service.insert_or_replace_entity('Schedules', log_dict)"
   ]
  },
  {
   "cell_type": "markdown",
   "metadata": {},
   "source": [
    "## For relay to cluster"
   ]
  },
  {
   "cell_type": "code",
   "execution_count": 21,
   "metadata": {},
   "outputs": [],
   "source": [
    "def update_current_schedule():\n",
    "    data_dict = []\n",
    "    for f in field_idx:\n",
    "        field_dict = {}\n",
    "        field_dict['parcel'] = f+1\n",
    "        field_counter = 0\n",
    "        for s in slot_idx:\n",
    "            if x[f][s].x == 1:\n",
    "                field_counter += 1\n",
    "            if y[f][s].x == 1:\n",
    "                field_dict['start'] = datetime.time(start_time+s//slots_hour,(s%slots_hour)*slot_dur).strftime('%H:%M')\n",
    "        field_dict['end'] = (datetime.datetime.strptime(field_dict['start'], '%H:%M') + datetime.timedelta(minutes=field_counter*slot_dur)).time().strftime('%H:%M')\n",
    "        field_dict['schedule_date'] = datetime.datetime.utcnow().date().strftime('%Y-%m-%d')\n",
    "        field_dict['PartitionKey'] = 'CurrentSchedule'\n",
    "        field_dict['RowKey'] = str(field_dict['parcel'])\n",
    "        data_dict.append(field_dict)\n",
    "    # # table_service.delete_table('CurrentSchedule')\n",
    "    # table_service.create_table('CurrentSchedule')\n",
    "    for i in range(len(data_dict)):\n",
    "        table_service.insert_or_replace_entity('CurrentSchedule', data_dict[i])"
   ]
  },
  {
   "cell_type": "markdown",
   "metadata": {},
   "source": [
    "## For cancelled schedule"
   ]
  },
  {
   "cell_type": "code",
   "execution_count": 22,
   "metadata": {},
   "outputs": [],
   "source": [
    "def send_empty_schedule():\n",
    "    log_dict = {}\n",
    "    data_dict = []\n",
    "    for f in field_idx:\n",
    "        field_dict = {}\n",
    "        field_dict['parcel'] = f+1\n",
    "        field_dict['start'] = '00:00'\n",
    "        field_dict['end'] = '00:00'\n",
    "        field_dict['PartitionKey'] = 'CurrentSchedule'\n",
    "        field_dict['RowKey'] = str(field_dict['parcel'])\n",
    "        field_dict['schedule_date'] = datetime.datetime.utcnow().date().strftime('%Y-%m-%d')\n",
    "        data_dict.append(field_dict)\n",
    "        log_dict['parcel' + str(f+1) +'_start'] = '00:00'\n",
    "        log_dict['parcel' + str(f+1) +'_end'] = '00:00'\n",
    "    log_dict['PartitionKey'] = 'Schedules'\n",
    "    log_dict['RowKey'] = datetime.datetime.utcnow().date().strftime('%Y-%m-%d')\n",
    "    table_service.insert_or_replace_entity('Schedules', log_dict)\n",
    "    for i in range(len(data_dict)):\n",
    "        table_service.insert_or_replace_entity('CurrentSchedule', data_dict[i])"
   ]
  },
  {
   "cell_type": "code",
   "execution_count": 23,
   "metadata": {},
   "outputs": [],
   "source": [
    "# Use this for production\n",
    "if min(min(humid_flag), temp_flag, min(wind_flag)) == 0:\n",
    "    send_empty_schedule()\n",
    "else:\n",
    "    if status == OptimizationStatus.OPTIMAL:\n",
    "        print('optimal solution cost {} found'.format(m.objective_value))\n",
    "        send_schedule_to_history()\n",
    "        update_current_schedule()\n",
    "    elif status == OptimizationStatus.FEASIBLE:\n",
    "        print('sol.cost {} found, best possible: {}'.format(m.objective_value, m.objective_bound))\n",
    "    elif status == OptimizationStatus.NO_SOLUTION_FOUND:\n",
    "        print('no feasible solution found, lower bound is: {}'.format(m.objective_bound))"
   ]
  },
  {
   "cell_type": "code",
   "execution_count": null,
   "metadata": {},
   "outputs": [],
   "source": []
  }
 ],
 "metadata": {
  "kernelspec": {
   "display_name": "Python 3",
   "language": "python",
   "name": "python3"
  },
  "language_info": {
   "codemirror_mode": {
    "name": "ipython",
    "version": 3
   },
   "file_extension": ".py",
   "mimetype": "text/x-python",
   "name": "python",
   "nbconvert_exporter": "python",
   "pygments_lexer": "ipython3",
   "version": "3.7.6"
  }
 },
 "nbformat": 4,
 "nbformat_minor": 4
}
