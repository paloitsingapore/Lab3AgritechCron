{
 "cells": [
  {
   "cell_type": "code",
   "execution_count": 8,
   "metadata": {},
   "outputs": [],
   "source": [
    "import pandas as pd\n",
    "import numpy as np\n",
    "import datetime"
   ]
  },
  {
   "cell_type": "code",
   "execution_count": 20,
   "metadata": {},
   "outputs": [],
   "source": [
    "def convert(filepath):\n",
    "    df = pd.read_csv(filepath)\n",
    "    df = df.dropna()\n",
    "    df['mac_add'] = df['mac_add'].astype(int)\n",
    "    df = df[['temperature','humidity','time','mac_add']]\n",
    "    df['time'] = pd.to_datetime(df['time'])\n",
    "    json_filepath = filepath[:-3]+'json'\n",
    "    print('The JSON file will be saved to \\'' + json_filepath + '\\'.')\n",
    "    df.to_json(json_filepath, orient='records', lines=True)\n",
    "    print('Below is a preview of the uploaded data.')\n",
    "    print(df.head())"
   ]
  },
  {
   "cell_type": "code",
   "execution_count": 21,
   "metadata": {},
   "outputs": [
    {
     "name": "stdout",
     "output_type": "stream",
     "text": [
      "The JSON file will be saved to 'C:\\Users\\icarter\\Downloads\\data.json'.\n",
      "Below is a preview of the uploaded data.\n",
      "   temperature  humidity                       time    mac_add\n",
      "1         25.8      70.5 2019-11-23 13:04:34.976425  286851425\n",
      "3         32.5      69.1 2020-01-18 10:22:28.756208  286851431\n",
      "4         33.2      56.7 2020-01-18 10:22:51.716533  286851434\n",
      "5         32.6      55.7 2020-01-18 10:23:07.277926  286851433\n",
      "6         32.1      62.5 2020-01-18 10:23:11.432909  286851435\n"
     ]
    }
   ],
   "source": [
    "filepath = r'C:\\Users\\icarter\\Downloads\\data.csv'\n",
    "convert(filepath)"
   ]
  }
 ],
 "metadata": {
  "kernelspec": {
   "display_name": "Python 3",
   "language": "python",
   "name": "python3"
  },
  "language_info": {
   "codemirror_mode": {
    "name": "ipython",
    "version": 3
   },
   "file_extension": ".py",
   "mimetype": "text/x-python",
   "name": "python",
   "nbconvert_exporter": "python",
   "pygments_lexer": "ipython3",
   "version": "3.7.6"
  }
 },
 "nbformat": 4,
 "nbformat_minor": 4
}
